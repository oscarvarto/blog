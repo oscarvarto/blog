{
 "cells": [
  {
   "cell_type": "markdown",
   "metadata": {},
   "source": [
    "- title: Rescuing Apollo 13\n",
    "- author: Oscar Vargas Torres\n",
    "- date: 2018-01-11\n",
    "- category: Numerical Methods\n",
    "- tags: Rocket-Science"
   ]
  },
  {
   "cell_type": "markdown",
   "metadata": {},
   "source": [
    "Back in the 1970s, Apollo's 13 crew aborted their lunar landing due to a explosion in one of the oxygen tanks. Using the following data, our task is to... rescue the astronauts!\n",
    "\n",
    "|Description                                                |Value                                         |\n",
    "|-----------------------------------------------------------|----------------------------------------------|  \n",
    "|Earth's mass                                               |$5.97 \\times 10^{24} \\; kg$                   |\n",
    "|Earth's radius                                             |$6.378 \\times 10^{6} \\; m$                    |\n",
    "|Universal Gravitational Constant                           |$6.67 \\times 10^{-11} \\; m^3/(kg \\cdot s^2)$  |  \n",
    "|Moon's mass                                                |$7.35 \\times 10^{22} \\; kg$                   |\n",
    "|Moon's radius                                              |$1.74 \\times 10^6 \\; kg$                      |\n",
    "|Distance from Earth to Moon (not a constant in real life)  |$400.5 \\times 10^{6} \\; m$                    |\n",
    "|Moon's period                                              |$27.3$ days                                   |\n",
    "|Initial's moon angle                                       |$-61^\\circ$                                   |\n",
    "|Trip total's length                                        |$12$ days                                     |\n",
    "|Initial's ship position ($t = 0$)                          |$[-6.701 \\times 10^6, 0]^T \\; m$              |\n",
    "|Initial's ship velocity (at $t = 0$)                       |$[0, -10.818 \\times 10^3]^T \\; m/s$           |\n",
    "\n",
    "  \n",
    "Simulate\n",
    "\n",
    "- An (instantaneous) speed reduction of $7.04$ m/s at 101,104 seconds.\n",
    "- An (instantaneous) speed increase, given by the `boost` (in m/s), at 212.100 seconds. Try with the\n",
    "  following `boost` values: $-10.0$, $10.0$, $50.0$, $100.0$.\n",
    "\n",
    "Assume the Earth is at the center of a 2-dimensional plane. Consider that Moon's movement is a \"perfect\"\n",
    "circular translation around the Earth (please, notice we are making a lot of simplifications here, to keep\n",
    "things simple for illustration and blogging purposes).    \n",
    "\n",
    "![](/images/cartoon-rocket.png)"
   ]
  },
  {
   "cell_type": "markdown",
   "metadata": {},
   "source": [
    "Using the Universal Gravitational Law, and Newton's 2nd. law, it is possible to get a second order differential\n",
    "equation, explicit, and non-linear, that computes the spaceship acceleration with:\n",
    "\n",
    "\n",
    "$$\\ddot{\\mathbf{x}}_n = -G \\frac{m_T}{\\| \\mathbf{x}_n \\|^3} \\mathbf{x}_n + G \\frac{m_L}{\\| \\mathbf{x}_L - \\mathbf{x}_n \\|^3} (\\mathbf{x}_L - \\mathbf{x}_n)$$\n",
    "\n",
    "where $\\mathbf{x}_n$ is the spaceship positions (relative to Earth);\n",
    "$m_T$, the mass of the Earth; $G$, Universal Gravitational constant;\n",
    "$m_L$, Moon's mass; $\\mathbf{x}_L$ is moon's position.\n",
    "\n",
    "A solution of the route followed by the spaceship could look like the following.\n",
    "\n",
    "![](/images/ruta-Apollo13.png)"
   ]
  },
  {
   "cell_type": "code",
   "execution_count": null,
   "metadata": {},
   "outputs": [],
   "source": []
  }
 ],
 "metadata": {
  "kernelspec": {
   "display_name": "Python 3",
   "language": "python",
   "name": "python3"
  },
  "language_info": {
   "codemirror_mode": {
    "name": "ipython",
    "version": 3
   },
   "file_extension": ".py",
   "mimetype": "text/x-python",
   "name": "python",
   "nbconvert_exporter": "python",
   "pygments_lexer": "ipython3",
   "version": "3.6.6"
  }
 },
 "nbformat": 4,
 "nbformat_minor": 2
}
