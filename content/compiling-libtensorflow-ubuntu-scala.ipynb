{
 "cells": [
  {
   "cell_type": "markdown",
   "metadata": {},
   "source": [
    "- title: Compiling libtensorflow in Ubuntu 18.04 to use it from Scala\n",
    "- author: Oscar Vargas Torres\n",
    "- date: 2018-08-21\n",
    "- category: Setup\n",
    "- tags: TensorFlow"
   ]
  },
  {
   "cell_type": "markdown",
   "metadata": {},
   "source": [
    "# Repositories and dependencies\n",
    "\n",
    "[Installation instructions](http://platanios.org/tensorflow_scala/installation.html) provided for tensorflow_scala <cite data-cite=\"727676/X4D3I4KT\"></cite> do not work at the moment of writing (2018-08-21). It may be related to differences in the supported hardware the native library was compiled for.\n",
    "\n",
    "So, it was necessary for me to compile libtensorflow.so from source:\n",
    "\n",
    "```\n",
    "git clone https://github.com/tensorflow/tensorflow.git\n",
    "cd tensorflow\n",
    "git checkout r1.9\n",
    "```\n",
    "\n",
    "I installed the Intel Distribution for Python, with instructions for `intelpython3_core` from [here](https://software.intel.com/en-us/articles/using-intel-distribution-for-python-with-anaconda). \n",
    "\n",
    "Next, it is time to configure the tensorflow build:\n",
    "\n",
    "```\n",
    "yes \"\" | TF_NEED_MKL=1 TF_DOWNLOAD_MKL=0 \\\n",
    "         MKL_INSTALL_PATH=/home/oscarvarto/anaconda3/envs/idp ./configure \n",
    "``` \n",
    "\n",
    "It is necessary to [install bazel](https://docs.bazel.build/versions/master/install-ubuntu.html#install-with-installer-ubuntu), and then run the actual build. I chose the following flags according to the supported instruction sets supported by my processor (use `cat /proc/cpuinfo` for that).\n",
    "\n",
    "```\n",
    "bazel build --cxxopt=-D_GLIBCXX_USE_CXX11_ABI=0 \\\n",
    "            --config=mkl -c opt --copt=-mavx --copt=-mfma --copt=-msse4.2 \\\n",
    "            //tensorflow:libtensorflow.so\n",
    "```\n",
    "\n",
    "# First Scala TensorFlow program\n",
    "\n",
    "## sbt dependencies\n",
    "\n",
    "```scala\n",
    "name := \"HelloTensorFlow\"\n",
    "\n",
    "version := \"0.1\"\n",
    "\n",
    "scalaVersion := \"2.12.6\"\n",
    "\n",
    "libraryDependencies ++= Seq(\n",
    "  \"org.platanios\" %% \"tensorflow\" % \"0.2.3\"\n",
    ")\n",
    "```\n",
    "\n",
    "## Hellow TensorFlow\n",
    "\n",
    "```scala\n",
    "import org.platanios.tensorflow.api._\n",
    "\n",
    "object HelloTensorFlow extends App {\n",
    "  val t1 = Tensor( 1.2, 4.5)\n",
    "  val t2 = Tensor(-0.2, 1.1)\n",
    "  val sum = t1 + t2\n",
    "  println(s\"sum = ${sum.summarize(flattened=true)}\") \n",
    "}\n",
    "```\n",
    "\n",
    "**sbt must be able to find the native libraries compiled before**. Therefore, `$LD_LIBRARY_PATH` must include the `bazel-bin/tensorflow` folder inside the tensorflow repository:\n",
    "```\n",
    "# ~/.zshenv (assuming zsh shell)\n",
    "LD_LIBRARY_PATH=`~/gitRepos/tensorflow/bazel-bin/tensorflow\n",
    "export LD_LIBRARY_PATH\n",
    "```"
   ]
  },
  {
   "cell_type": "markdown",
   "metadata": {},
   "source": [
    "<div class=\"cite2c-biblio\"></div>"
   ]
  }
 ],
 "metadata": {
  "cite2c": {
   "citations": {
    "727676/X4D3I4KT": {
     "URL": "https://github.com/eaplatanios/tensorflow_scala",
     "accessed": {
      "day": 21,
      "month": 8,
      "year": 2018
     },
     "author": [
      {
       "family": "Platanios",
       "given": "Anthony"
      }
     ],
     "id": "727676/X4D3I4KT",
     "issued": {
      "day": 21,
      "month": 8,
      "year": 2018
     },
     "note": "original-date: 2017-04-01T18:00:29Z",
     "shortTitle": "tensorflow_scala",
     "title": "tensorflow_scala: TensorFlow API for the Scala Programming Language",
     "title-short": "tensorflow_scala",
     "type": "book"
    }
   }
  },
  "kernelspec": {
   "display_name": "Python 3",
   "language": "python",
   "name": "python3"
  },
  "language_info": {
   "codemirror_mode": {
    "name": "ipython",
    "version": 3
   },
   "file_extension": ".py",
   "mimetype": "text/x-python",
   "name": "python",
   "nbconvert_exporter": "python",
   "pygments_lexer": "ipython3",
   "version": "3.6.6"
  }
 },
 "nbformat": 4,
 "nbformat_minor": 2
}
