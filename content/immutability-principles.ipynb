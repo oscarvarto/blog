{
 "cells": [
  {
   "cell_type": "markdown",
   "metadata": {},
   "source": [
    "- title: Immutability Principles\n",
    "- author: Oscar Vargas Torres\n",
    "- date: 2018-09-12\n",
    "- category: Functional Programming\n",
    "- tags: Immutability"
   ]
  },
  {
   "cell_type": "markdown",
   "metadata": {},
   "source": [
    "## Mutability is hard to reason about\n",
    "\n",
    "A lot of programming languages support mutability. For example, Python can mutate objects in place (as well as JavaScript and a lot others):"
   ]
  },
  {
   "cell_type": "code",
   "execution_count": 1,
   "metadata": {
    "ExecuteTime": {
     "end_time": "2018-09-11T20:01:12.282477Z",
     "start_time": "2018-09-11T20:01:12.278241Z"
    }
   },
   "outputs": [],
   "source": [
    "x = [1, 2, 3]"
   ]
  },
  {
   "cell_type": "code",
   "execution_count": 2,
   "metadata": {
    "ExecuteTime": {
     "end_time": "2018-09-11T20:01:12.295127Z",
     "start_time": "2018-09-11T20:01:12.284607Z"
    }
   },
   "outputs": [
    {
     "data": {
      "text/plain": [
       "[3, 2, 1]"
      ]
     },
     "execution_count": 2,
     "metadata": {},
     "output_type": "execute_result"
    }
   ],
   "source": [
    "x.reverse()\n",
    "x"
   ]
  },
  {
   "cell_type": "markdown",
   "metadata": {},
   "source": [
    "This may not seem problematic at first. A lot of people would argue that it is indeed necessary to program. However, when things can change, we sometimes are forced to understand more details than the bare minimum necessary. For example:"
   ]
  },
  {
   "cell_type": "code",
   "execution_count": 3,
   "metadata": {
    "ExecuteTime": {
     "end_time": "2018-09-11T20:01:12.301964Z",
     "start_time": "2018-09-11T20:01:12.297057Z"
    }
   },
   "outputs": [
    {
     "data": {
      "text/plain": [
       "['u', 'o', 'i', 'e', 'a']"
      ]
     },
     "execution_count": 3,
     "metadata": {},
     "output_type": "execute_result"
    }
   ],
   "source": [
    "# This function is just for ilustration purposes.\n",
    "# Imagine a situation where a very long and complex method mutates one of it's arguments...\n",
    "from typing import List, TypeVar\n",
    "T = TypeVar('T')\n",
    "\n",
    "def m1(x: List[T]) -> None:\n",
    "    \"\"\"Reverses its argument\"\"\"\n",
    "    x.reverse()\n",
    "    return None\n",
    "\n",
    "vowels = ['a', 'e', 'i', 'o', 'u']\n",
    "m1(vowels)\n",
    "vowels"
   ]
  },
  {
   "cell_type": "markdown",
   "metadata": {},
   "source": [
    "Now, we have to dig into the implementation of `m1`, to understand how the method affects its arguments.\n",
    "\n",
    "A simpler approach is to rely on immutable data structures/variables. This may seem like a more difficult approach, but it makes programming easier in the long run."
   ]
  },
  {
   "cell_type": "code",
   "execution_count": 4,
   "metadata": {},
   "outputs": [
    {
     "name": "stdout",
     "output_type": "stream",
     "text": [
      "['u', 'o', 'i', 'e', 'a']\n",
      "['a', 'e', 'i', 'o', 'u']\n"
     ]
    }
   ],
   "source": [
    "# Note: The example above serves to illustrate the problems with mutation.\n",
    "# Of course, it is not the *only* way to do it on Python.\n",
    "# For example, a more functional approach would be (using `List[T]`):\n",
    "def m2(x: List[T]) -> List[T]:\n",
    "    return x[::-1]\n",
    "\n",
    "vowels2 = ['a', 'e', 'i', 'o', 'u']\n",
    "\n",
    "print(m2(vowels2))\n",
    "print(vowels2) # Remains unmodified"
   ]
  },
  {
   "cell_type": "markdown",
   "metadata": {},
   "source": [
    "Let's use an immutable approach to the previous problem with `pyrsistent` Python's library:"
   ]
  },
  {
   "cell_type": "code",
   "execution_count": 5,
   "metadata": {
    "ExecuteTime": {
     "end_time": "2018-09-11T20:01:12.323818Z",
     "start_time": "2018-09-11T20:01:12.303709Z"
    }
   },
   "outputs": [
    {
     "data": {
      "text/plain": [
       "plist([1, 2, 3])"
      ]
     },
     "execution_count": 5,
     "metadata": {},
     "output_type": "execute_result"
    }
   ],
   "source": [
    "from pyrsistent import plist\n",
    "ns1 = plist([1, 2, 3])\n",
    "ns1"
   ]
  },
  {
   "cell_type": "code",
   "execution_count": 6,
   "metadata": {
    "ExecuteTime": {
     "end_time": "2018-09-11T20:01:12.330267Z",
     "start_time": "2018-09-11T20:01:12.325581Z"
    }
   },
   "outputs": [
    {
     "data": {
      "text/plain": [
       "plist([3, 2, 1])"
      ]
     },
     "execution_count": 6,
     "metadata": {},
     "output_type": "execute_result"
    }
   ],
   "source": [
    "ns2 = ns1.reverse()\n",
    "ns2"
   ]
  },
  {
   "cell_type": "code",
   "execution_count": 7,
   "metadata": {
    "ExecuteTime": {
     "end_time": "2018-09-11T20:01:12.335933Z",
     "start_time": "2018-09-11T20:01:12.332153Z"
    }
   },
   "outputs": [
    {
     "data": {
      "text/plain": [
       "plist([1, 2, 3])"
      ]
     },
     "execution_count": 7,
     "metadata": {},
     "output_type": "execute_result"
    }
   ],
   "source": [
    "# Notice that original list remains unmodified (it is an immutable/persistent data structure!)\n",
    "ns1"
   ]
  },
  {
   "cell_type": "markdown",
   "metadata": {},
   "source": [
    "The following script, is a complete application of the concepts just presented."
   ]
  },
  {
   "cell_type": "code",
   "execution_count": 8,
   "metadata": {},
   "outputs": [],
   "source": [
    "from pyrsistent import PRecord, field\n",
    "from typing import Callable, Optional, TypeVar\n",
    "from scipy.optimize import newton\n",
    "\n",
    "import matplotlib.pyplot as plt\n",
    "import numpy as np\n",
    "\n",
    "A = TypeVar('A')\n",
    "B = TypeVar('B')\n",
    "F1 = Callable[[A], B]\n",
    "RealF = F1[float, float]\n",
    "\n",
    "\n",
    "class RootPlot(PRecord):\n",
    "    def inv(self):\n",
    "        return self.x_min <= self.x_max, 'x_min less than x_max'\n",
    "    __invariant__ = inv\n",
    "    x_min = field(type=float, mandatory=True)\n",
    "    x_max = field(type=float, mandatory=True)\n",
    "    x_init = field(type=float)\n",
    "    output_file = field(type=str)\n",
    "\n",
    "    def plot(self,\n",
    "             y: RealF,\n",
    "             dy: Optional[RealF] = None,\n",
    "             dy2: Optional[RealF] = None) -> None:\n",
    "        root = newton(func=y, x0=self.x_init, fprime=dy, fprime2=dy2)\n",
    "        x = np.linspace(self.x_min, self.x_max)\n",
    "        plt.clf()\n",
    "        plt.plot(x, np.vectorize(y)(x))\n",
    "        plt.plot(root, 0.0, 'r+')\n",
    "        plt.grid()\n",
    "        plt.savefig(self.output_file)\n",
    "        plt.close()\n",
    "\n",
    "\n",
    "def main():\n",
    "    def y(x: float) -> float:\n",
    "        return ((2*x - 11.7)*x + 17.7)*x - 5.0\n",
    "\n",
    "    def dy(x: float) -> float:\n",
    "        return (6.0*x - 23.4)*x + 17.7\n",
    "\n",
    "    def dy2(x: float) -> float:\n",
    "        return 12*x - 23.4\n",
    "\n",
    "    p = RootPlot(x_min=0.0,\n",
    "                 x_max=4.0,\n",
    "                 x_init=3.0,\n",
    "                 output_file=\"simple_plot.png\")\n",
    "    # p.set(x_init=2.0)\n",
    "    p.plot(y)\n",
    "\n",
    "\n",
    "if __name__ == \"__main__\":\n",
    "    # execute only if run as a script\n",
    "    main()"
   ]
  },
  {
   "cell_type": "markdown",
   "metadata": {},
   "source": [
    "## Functional programming relies on immutability\n",
    "\n",
    "Immutable data structures/collections exist in a lot of programming languages:\n",
    "* Haskell\n",
    "    * https://haskell-containers.readthedocs.io/en/latest/intro.html\n",
    "* Scala\n",
    "    * https://docs.scala-lang.org/overviews/collections/overview.html    \n",
    "* FSharp\n",
    "    * https://docs.microsoft.com/en-us/dotnet/fsharp/language-reference/fsharp-collection-types\n",
    "* Clojure\n",
    "    * https://clojure.org/reference/data_structures\n",
    "* C#\n",
    "    * https://msdn.microsoft.com/en-us/library/system.collections.immutable(v=vs.111).aspx\n",
    "    * https://msdn.microsoft.com/en-us/magazine/mt795189.aspx\n",
    "* JavaScript\n",
    "    * https://facebook.github.io/immutable-js/\n",
    "* etc\n",
    "\n",
    "You may have a lot of questions on the practicality and performance of Immutable Data Structures. There has been a lot of work and research on this topic. To give an example, Chris Okasaki received his PhD for his work on Purely Functional Data Structures. Take a look at\n",
    "https://www.cs.cmu.edu/~rwh/theses/okasaki.pdf"
   ]
  },
  {
   "cell_type": "markdown",
   "metadata": {},
   "source": [
    "## Immutability in the context of Object Oriented Programming\n",
    "\n",
    "I will use examples from several programming languages that support Object Oriented Programming, mutability as well as immutability: Java, Scala, F#, C#.\n",
    "\n",
    "### Using Java\n",
    "\n",
    "We are going to use Java to give an example (taken from [Reactive Design Patterns](https://www.reactivedesignpatterns.com/) by Roland Kuhn, et. al.) of an unsafe mutable class, which may hide unexpected behavior:\n",
    "\n",
    "```java\n",
    "import java.util.Date;\n",
    "public class Unsafe {\n",
    "    private Date timestamp;\n",
    "    private final StringBuffer message;\n",
    "\n",
    "    public Unsafe(Date timestamp, StringBuffer message) {\n",
    "      this.timestamp = timestamp;\n",
    "      this.message = message;\n",
    "    }\n",
    "\n",
    "    public synchronized Date getTimestamp() {\n",
    "        return timestamp;\n",
    "    }\n",
    "\n",
    "    public synchronized void setTimestamp(Date timestamp) {\n",
    "        this.timestamp = timestamp;\n",
    "    }\n",
    "\n",
    "    public StringBuffer getMessage() {\n",
    "        return message;\n",
    "    }\n",
    "}\n",
    "```\n",
    "\n",
    "**Can you spot the problems?**\n",
    "\n",
    "The following behaves predictably and is easier to reason about:\n",
    "\n",
    "```java\n",
    "import java.util.Date;\n",
    "\n",
    "public class Immutable {\n",
    "    private final Date timestamp;\n",
    "    private final String message;\n",
    "\n",
    "    public Immutable(final Date timestamp, final String message) {\n",
    "        this.timestamp = new Date(timestamp.getTime());\n",
    "        this.message = message;\n",
    "    \n",
    "    public Date getTimestamp() {\n",
    "        return new Date(timestamp.getTime());\n",
    "    }\n",
    "    public String getMessage() {\n",
    "        return message;\n",
    "    }\n",
    "}}\n",
    "```\n",
    "\n",
    "### Using Scala\n",
    "\n",
    "Let's start with an example that stresses that using mutability forces to understand the context where this technique is used.\n",
    "\n",
    "```scala\n",
    "class Counter {\n",
    "  private var value = 0\n",
    "  \n",
    "  def increment() { value += 1}  // <== This method *mutates* value\n",
    "  \n",
    "  def current = value\n",
    "}\n",
    "```\n",
    "\n",
    "Assume we create a `Counter` instance, and then call \"several times\" the `increment` method:\n",
    "\n",
    "```scala\n",
    "val counter = new Counter\n",
    "// Block1 of code using increment(), possibly several times.\n",
    "// ...\n",
    "// ...\n",
    "val count = counter.current\n",
    "```\n",
    "\n",
    "Can you guess which is the current count? Why? Do you need to know more information to give the exact answer? Do you think this requires more effort/time from you?\n",
    "\n",
    "Now, lets compare with an the following immutable definition (also supported by the language):\n",
    "\n",
    "```scala\n",
    "final case class ImmutableCounter(current: Int = 0) {\n",
    "  def increment: ImmutableCounter = ImmutableCounter(current + 1)     \n",
    "}\n",
    "```\n",
    "\n",
    "> NOTE (Scala specific): When you declare a `case class`, several things happen automatically:\n",
    ">  * Each of the constructor parameters becomes a `val` unless it is explicitly declared as a `var`.\n",
    ">  * An `apply` method is provided for the companion object that lets you construct objects without `new`.\n",
    ">  * An `unapply` method is provided that makes pattern matching work.\n",
    ">  * Methods `toString`, `equals`, `hashCode` and `copy` are generated unless they are explicitly provided.\n",
    ">  \n",
    "> To get the equivalent functionality in other languages, like Java, you would have to write much more code, and/or use libraries like [Lombok](https://projectlombok.org/). Hopefully we will see Java evolving. Take a look at [Data Classes for Java](http://cr.openjdk.java.net/~briangoetz/amber/datum.html) from [Project Amber](http://openjdk.java.net/projects/amber/) and [Value Types](http://openjdk.java.net/jeps/169) from [Project Valhalla](http://openjdk.java.net/projects/valhalla/).\n",
    "\n",
    "\n",
    "Now, for a given `ImmutableCounter` instance, it is impossible to mutate the `current` count. You would need to create new instances of the class to be able to get different values. For example:\n",
    "\n",
    "```scala\n",
    "val initialCount = ImmutableCounter(0)\n",
    "val counter1 = initialCount.increment\n",
    "// Possibly big chunk of code manipulating counters\n",
    "// ...\n",
    "// ...\n",
    "val someCount = counter1.current\n",
    "```\n",
    "\n",
    "Can you guess which is the value of someCount without studying the \"Possibly big chunk of code\"? Which is the value of `someCount`?\n",
    "\n",
    "Whereas the above example may feel fictitious, it illustrates one important point: Immutability allows you to focus your attention in less code, so it will be easier for you to catch errors, and the compiler can protect you from making mistakes. Final result: you will make less mistakes in your code (less bugs!).\n",
    "\n",
    "In Scala, **it is a best practice to avoid `var`s, and try to use `val`s for primitive types (the story has some subtleties for reference types) to avoid mutation and make your life easier**.\n",
    "\n",
    "### Using .NET (F# and C#)\n",
    "\n",
    "Take a look at this blog post: https://fsharpforfunandprofit.com/posts/correctness-immutability/\n",
    "\n",
    "### Immutable Data Structures allow easier concurrency\n",
    "\n",
    "Take a look at https://clojure.org/about/concurrent_programming to read how immutable data structures will ease multicore/multithreaded programming on the JVM with Clojure.\n",
    "\n",
    "### Global Data and Mutable Variables\n",
    "\n",
    "Using mutable global variables can be very dangerous (AFAIK [JavaScript allows this](https://developer.mozilla.org/en-US/docs/Web/JavaScript/Reference/Statements/var)). Take a look at a thorough discussion on this topic on [Section 13.3 Global Data of Code Complete 2nd Edition, by Steve McConnell](http://aroma.vn/web/wp-content/uploads/2016/11/code-complete-2nd-edition-v413hav.pdf).\n",
    "\n",
    "\n",
    "## Extra: Avoiding  Null Reference Exceptions by using descriptive types.\n",
    "\n",
    "Sometimes people allow mutation of variables to encode the possibility that a value sometimes does not exist.\n",
    "To encode the absence of a value, they use `null`s. Like this:\n",
    "\n",
    "```scala\n",
    "final case class Configuration(numberOfCores: Int)\n",
    "var configuration: Configuration = null\n",
    "// Block1 of code logic depending on configuration\n",
    "// ...\n",
    "// Some time later\n",
    "configuration = Configuration(4) \n",
    "```\n",
    "\n",
    "(Assume you \"have to\" use `var`s here, because you have no control over the whole source code)\n",
    "Can you spot a potential problem in `Block1` above while trying to now the number of cores that have been configured?\n",
    "\n",
    "If there is a possibility that sometimes a value may not exist, you can encode that using `Option`:\n",
    "\n",
    "```scala\n",
    "final case class Configuration(numberOfCores: Int)\n",
    "var configuration: Option[Configuration] = None\n",
    "// Block1 of code logic depending on configuration\n",
    "// ...\n",
    "// some time later\n",
    "configutation = Some(Configuration(4))\n",
    "```\n",
    "\n",
    "Now, our program won't crush at runtime if we try to get the number of cores configured in `Block1`. We will simply get `None`, meaning that we have not configured our system yet. No more runtime crashes. You just need to allow the type system work for you, and encode the possibility of absence of a value using an appropriate type.\n",
    "\n",
    "We have been using Scala to exemplify this, but optionals have been included in mainstream languages also. For example, take a look at the following references:\n",
    "* From the Java world: https://docs.oracle.com/javase/8/docs/api/java/util/Optional.html  (We are now near to Java 11 Release Date)\n",
    "* From the .NET world: https://docs.microsoft.com/en-us/dotnet/fsharp/language-reference/options\n",
    "* C++17: https://en.cppreference.com/w/cpp/utility/optional\n",
    "* Python: Look for `Optional` here https://docs.python.org/3/library/typing.html (supported with type annotations, for python 3.6+)\n",
    "* PureScript (a language that compiles to JavaScript): https://pursuit.purescript.org/packages/purescript-maybe/4.0.0 "
   ]
  }
 ],
 "metadata": {
  "kernelspec": {
   "display_name": "Python 3",
   "language": "python",
   "name": "python3"
  },
  "language_info": {
   "codemirror_mode": {
    "name": "ipython",
    "version": 3
   },
   "file_extension": ".py",
   "mimetype": "text/x-python",
   "name": "python",
   "nbconvert_exporter": "python",
   "pygments_lexer": "ipython3",
   "version": "3.7.0"
  }
 },
 "nbformat": 4,
 "nbformat_minor": 2
}
