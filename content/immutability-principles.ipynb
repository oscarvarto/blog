{
 "cells": [
  {
   "cell_type": "markdown",
   "metadata": {},
   "source": [
    "- title: Immutability Principles\n",
    "- author: Oscar Vargas Torres\n",
    "- date: 2018-08-27\n",
    "- category: Functional Programming\n",
    "- tags: Immutability"
   ]
  },
  {
   "cell_type": "markdown",
   "metadata": {},
   "source": [
    "## Mutability is hard to reason about\n",
    "\n",
    "A lot of programming languages support mutability. For example, Python can mutate objects in place (as well as JavaScript and a lot others):"
   ]
  },
  {
   "cell_type": "code",
   "execution_count": 1,
   "metadata": {
    "ExecuteTime": {
     "end_time": "2018-09-11T20:01:12.282477Z",
     "start_time": "2018-09-11T20:01:12.278241Z"
    }
   },
   "outputs": [],
   "source": [
    "x = [1, 2, 3]"
   ]
  },
  {
   "cell_type": "code",
   "execution_count": 2,
   "metadata": {
    "ExecuteTime": {
     "end_time": "2018-09-11T20:01:12.295127Z",
     "start_time": "2018-09-11T20:01:12.284607Z"
    }
   },
   "outputs": [
    {
     "data": {
      "text/plain": [
       "[3, 2, 1]"
      ]
     },
     "execution_count": 2,
     "metadata": {},
     "output_type": "execute_result"
    }
   ],
   "source": [
    "x.reverse()\n",
    "x"
   ]
  },
  {
   "cell_type": "markdown",
   "metadata": {},
   "source": [
    "This may not seem problematic at first. A lot of people would argue that it is indeed necessary to program. However, when things can change, we sometimes are forced to understand more details than the bare minimum necessary. For example:"
   ]
  },
  {
   "cell_type": "code",
   "execution_count": 3,
   "metadata": {
    "ExecuteTime": {
     "end_time": "2018-09-11T20:01:12.301964Z",
     "start_time": "2018-09-11T20:01:12.297057Z"
    }
   },
   "outputs": [
    {
     "data": {
      "text/plain": [
       "['u', 'o', 'i', 'e', 'a']"
      ]
     },
     "execution_count": 3,
     "metadata": {},
     "output_type": "execute_result"
    }
   ],
   "source": [
    "# This function is just for ilustration purposes.\n",
    "# Imagine a situation where a very long and complex method mutates one of it's arguments...\n",
    "def m1(x):\n",
    "    \"\"\"Reverses its argument\"\"\"\n",
    "    return x.reverse()\n",
    "\n",
    "vowels = ['a', 'e', 'i', 'o', 'u'] \n",
    "m1(vowels)\n",
    "vowels"
   ]
  },
  {
   "cell_type": "markdown",
   "metadata": {},
   "source": [
    "Now, we have to dig into the implementation of `m1`, to understand how the method affects its arguments.\n",
    "\n",
    "A simpler approach is to rely on immutable data structures/variables. This may seem like a more difficult approach, but it makes programming easier in the long run.\n",
    "\n",
    "Let's use an immutable approach to the previous problem with `pyrsistent` Python's library:"
   ]
  },
  {
   "cell_type": "code",
   "execution_count": 4,
   "metadata": {
    "ExecuteTime": {
     "end_time": "2018-09-11T20:01:12.323818Z",
     "start_time": "2018-09-11T20:01:12.303709Z"
    }
   },
   "outputs": [
    {
     "data": {
      "text/plain": [
       "plist([1, 2, 3])"
      ]
     },
     "execution_count": 4,
     "metadata": {},
     "output_type": "execute_result"
    }
   ],
   "source": [
    "from pyrsistent import plist\n",
    "ns1 = plist([1, 2, 3])\n",
    "ns1"
   ]
  },
  {
   "cell_type": "code",
   "execution_count": 5,
   "metadata": {
    "ExecuteTime": {
     "end_time": "2018-09-11T20:01:12.330267Z",
     "start_time": "2018-09-11T20:01:12.325581Z"
    }
   },
   "outputs": [
    {
     "data": {
      "text/plain": [
       "plist([3, 2, 1])"
      ]
     },
     "execution_count": 5,
     "metadata": {},
     "output_type": "execute_result"
    }
   ],
   "source": [
    "ns2 = ns1.reverse()\n",
    "ns2"
   ]
  },
  {
   "cell_type": "code",
   "execution_count": 6,
   "metadata": {
    "ExecuteTime": {
     "end_time": "2018-09-11T20:01:12.335933Z",
     "start_time": "2018-09-11T20:01:12.332153Z"
    }
   },
   "outputs": [
    {
     "data": {
      "text/plain": [
       "plist([1, 2, 3])"
      ]
     },
     "execution_count": 6,
     "metadata": {},
     "output_type": "execute_result"
    }
   ],
   "source": [
    "# Notice that original list remains unmodified (it is a immutable/persistent data structure!)\n",
    "ns1"
   ]
  },
  {
   "cell_type": "markdown",
   "metadata": {},
   "source": [
    "## Functional programming relies on immutability\n",
    "\n",
    "Immutable data structures/collections exist in a lot of programming languages:\n",
    "* Haskell\n",
    "    * https://haskell-containers.readthedocs.io/en/latest/intro.html\n",
    "* Scala\n",
    "    * https://docs.scala-lang.org/overviews/collections/overview.html    \n",
    "* FSharp\n",
    "    * https://docs.microsoft.com/en-us/dotnet/fsharp/language-reference/fsharp-collection-types\n",
    "* Clojure\n",
    "    * https://clojure.org/reference/data_structures\n",
    "* C#\n",
    "    * https://msdn.microsoft.com/en-us/library/system.collections.immutable(v=vs.111).aspx\n",
    "    * https://msdn.microsoft.com/en-us/magazine/mt795189.aspx\n",
    "* JavaScript\n",
    "    * https://facebook.github.io/immutable-js/\n",
    "* etc"
   ]
  }
 ],
 "metadata": {
  "kernelspec": {
   "display_name": "Python 3",
   "language": "python",
   "name": "python3"
  },
  "language_info": {
   "codemirror_mode": {
    "name": "ipython",
    "version": 3
   },
   "file_extension": ".py",
   "mimetype": "text/x-python",
   "name": "python",
   "nbconvert_exporter": "python",
   "pygments_lexer": "ipython3",
   "version": "3.6.3"
  }
 },
 "nbformat": 4,
 "nbformat_minor": 2
}
